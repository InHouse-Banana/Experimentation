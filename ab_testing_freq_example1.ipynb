{
 "cells": [
  {
   "cell_type": "markdown",
   "metadata": {},
   "source": [
    "### Example A/B Testing for the Company's Facebook Advertisements\n",
    "\n",
    "https://medium.com/@furth3r/unlocking-insights-with-a-b-testing-and-hypothesis-testing-a-comprehensive-guide-6779b4d8753e\n",
    "\n",
    "https://github.com/doga-yilmaz/ab_test_facebook/blob/main/ab_test_notebook.ipynb"
   ]
  },
  {
   "cell_type": "code",
   "execution_count": null,
   "metadata": {},
   "outputs": [],
   "source": []
  },
  {
   "cell_type": "code",
   "execution_count": null,
   "metadata": {},
   "outputs": [],
   "source": []
  },
  {
   "cell_type": "code",
   "execution_count": null,
   "metadata": {},
   "outputs": [],
   "source": []
  }
 ],
 "metadata": {
  "language_info": {
   "name": "python"
  }
 },
 "nbformat": 4,
 "nbformat_minor": 2
}
