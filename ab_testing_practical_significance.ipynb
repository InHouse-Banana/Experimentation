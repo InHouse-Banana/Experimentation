{
 "cells": [
  {
   "cell_type": "markdown",
   "metadata": {},
   "source": [
    "### Practical significance \n",
    "https://baotramduong.medium.com/a-b-testing-statistical-significance-vs-practical-significance-dcbb93d87db0"
   ]
  },
  {
   "cell_type": "code",
   "execution_count": null,
   "metadata": {},
   "outputs": [
    {
     "name": "stdout",
     "output_type": "stream",
     "text": [
      "This is missing the ddof's in the np.var calculations\n",
      "t-statistic: -3.464101615137755, p-value: 0.003196953195345317, Cohen's d: 1.7320508075688774\n"
     ]
    }
   ],
   "source": [
    "import numpy as np\n",
    "from scipy.stats import ttest_ind\n",
    "\n",
    "# Assuming 'control_group' and 'treatment_group' are arrays of data\n",
    "control_group = np.array([2, 3, 3, 4, 4, 4, 5, 5, 6])\n",
    "treatment_group = np.array([4, 5, 5, 6, 6, 6, 7, 7, 8])\n",
    "\n",
    "# Perform t-test to assess statistical significance\n",
    "t_statistic, p_value = ttest_ind(control_group, treatment_group)\n",
    "\n",
    "# Calculate Cohen's d as an effect size measure\n",
    "mean_difference = np.mean(treatment_group) - np.mean(control_group)\n",
    "pooled_std_dev = np.sqrt(((len(control_group) - 1) * np.var(control_group) + (len(treatment_group) - 1) * np.var(treatment_group)) / (len(control_group) + len(treatment_group) - 2))\n",
    "effect_size = mean_difference / pooled_std_dev\n",
    "\n",
    "print(\"This is missing the ddof's in the np.var calculations\")\n",
    "print(f\"t-statistic: {t_statistic}, p-value: {p_value}, Cohen's d: {effect_size}\")\n",
    "print()"
   ]
  },
  {
   "cell_type": "markdown",
   "metadata": {},
   "source": [
    "https://machinelearningmastery.com/effect-size-measures-in-python/\n",
    "\n",
    "https://rpsychologist.com/cohend/"
   ]
  },
  {
   "cell_type": "code",
   "execution_count": 11,
   "metadata": {},
   "outputs": [
    {
     "name": "stdout",
     "output_type": "stream",
     "text": [
      "-1.6329931618554523\n",
      "1.6329931618554523\n"
     ]
    }
   ],
   "source": [
    "# calculate the Cohen's d between two samples\n",
    "\n",
    "from numpy.random import seed\n",
    "from math import sqrt\n",
    "\n",
    "def cohend(d1, d2):\n",
    "\t# calculate the size of samples\n",
    "\tn1, n2 = len(d1), len(d2)\n",
    "\t# calculate the variance of the samples\n",
    "\ts1, s2 = np.var(d1, ddof=1), np.var(d2, ddof=1)\n",
    "\t#s1, s2 = np.var(d1), np.var(d2)\n",
    "\t# calculate the pooled standard deviation\n",
    "\ts = np.sqrt(((n1 - 1) * s1 + (n2 - 1) * s2) / (n1 + n2 - 2))\n",
    "\t# calculate the means of the samples\n",
    "\tu1, u2 = np.mean(d1), np.mean(d2)\n",
    "\t# calculate the effect size\n",
    "\treturn (u1 - u2) / s\n",
    " \n",
    "# seed random number generator\n",
    "seed(1)\n",
    "# prepare data\n",
    "\n",
    "# calculate cohen's d\n",
    "d = cohend(control_group, treatment_group)\n",
    "print(d)\n",
    "d = cohend(treatment_group, control_group)\n",
    "print(d)"
   ]
  },
  {
   "cell_type": "code",
   "execution_count": null,
   "metadata": {},
   "outputs": [],
   "source": []
  }
 ],
 "metadata": {
  "kernelspec": {
   "display_name": "base",
   "language": "python",
   "name": "python3"
  },
  "language_info": {
   "codemirror_mode": {
    "name": "ipython",
    "version": 3
   },
   "file_extension": ".py",
   "mimetype": "text/x-python",
   "name": "python",
   "nbconvert_exporter": "python",
   "pygments_lexer": "ipython3",
   "version": "3.12.3"
  }
 },
 "nbformat": 4,
 "nbformat_minor": 2
}
